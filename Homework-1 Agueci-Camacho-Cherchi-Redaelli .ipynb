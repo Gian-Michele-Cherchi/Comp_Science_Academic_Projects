{
 "cells": [
  {
   "cell_type": "markdown",
   "metadata": {},
   "source": [
    "# Computational Science: homework 1"
   ]
  },
  {
   "cell_type": "markdown",
   "metadata": {},
   "source": [
    "## 1 Sub-gaussian bounds for bounded variables "
   ]
  },
  {
   "cell_type": "markdown",
   "metadata": {},
   "source": [
    "$\\newcommand{\\E}{\\mathrm{E}}$"
   ]
  },
  {
   "cell_type": "markdown",
   "metadata": {},
   "source": [
    "Let's take a random variable $X$ such that $a\\leq X\\leq b$ with mean $\\E[X]= \\mu$  \n",
    "\n",
    "\n",
    "a) $\\psi(\\lambda) = \\log\\E[e^{\\lambda X}]$ with $\\E[e^{\\lambda X}] = \\int_a^b{P(X=x) e^{\\lambda x} dx}$  \n",
    "$\\psi(0) = \\log(\\E[1]) = \\log(\\int_a^b{P(X=x) dx})$.  \n",
    "But normalization imposes conservation of probability such that $\\int_a^b{P(X=x) dx}= 1 ==> \\psi(0) = log(1) = 0$\n",
    "$\\psi(\\lambda)' = {\\frac{\\partial \\log(\\E[e^{\\lambda X}])}{\\partial \\lambda}}= \\frac{1}{\\E[e^{\\lambda X)}]}\\frac{\\partial (\\E[e^{\\partial \\lambda X}]}{\\partial \\lambda} = \\frac{\\int_a^b x P(X=x) e^{\\lambda x}}{E[e^{\\lambda X}]}$. \n",
    "Evaluating in $\\lambda = 0 $ one has:  $\\psi(0)' = \\frac{\\int_a^b x P(X=x)}{E(1)} = \\E[X]$ by normalization. \n",
    "\n",
    "___________________________________________________________________________________________________________________\n",
    "\n",
    "b) Let's define $\\E_\\lambda[f(x)] = \\frac{\\E[f(\\lambda) e^{\\lambda X}]}{\\E[e^{\\lambda X}]}$.  \n",
    "    Show $\\psi(\\lambda)''= \\E_\\lambda[X^2] - \\E_\\lambda[X]^2$.  \n",
    "    $\\psi(\\lambda)''= \\frac{\\partial^2  \\log(\\E[e^{\\lambda X}])}{\\partial \\lambda^2}= \\frac{\\partial}{\\partial \\lambda}[\\frac{1}{\\E[e^{\\lambda X}]} \\frac{\\partial \\E[e^{\\lambda X}]}{\\partial \\lambda}] = \\frac{\\E[e^{\\lambda X}] \\int_a^b x^2 P(X = x)e^{\\lambda X} - (\\int_a^b x P(X=x) e^{\\lambda X} dx)(\\int_a^b x P(X=x) e^{\\lambda X} dx)}{\\E[e^{\\lambda X}]^2} = \\frac{\\E[X^2 e^{\\lambda X}]}{\\E[e^{\\lambda X}]} - (\\frac{\\E[X e^{\\lambda X}]}{\\E[e^{\\lambda X}]})^2= \\E_\\lambda[X^2] - \\E_\\lambda[X]^2$. \n",
    "    \n",
    " $\\psi(\\lambda)''= \\psi(\\lambda)''= \\frac{\\partial^2  \\log(\\E[e^{\\lambda X}])}{\\partial \\lambda^2}$\n",
    " \n",
    " In order to find a bound to $|\\psi(\\lambda)''|$ we begin by highlighting that $e^{\\lambda x}$ is a convex function of $X$, which is  bounded random variable $a\\leq X\\leq b$.\n",
    "\n",
    "Therefore, we can apply Jensen's Inequlity: the function will be always bounded by the straigth line passing in $a$ and $b$ with the angular coefficient only determined by the boundary values. The inequality holds in the same way for $x>0$ or $x<0$. For the mean value: we can translate the distribution by its mean $\\mu$ without loss of generality. In fact, we have not made any hypothesis on the value of $a$ and $b$. \n",
    "Now the new mean value is $\\E[X] = 0$. This implies $a<0, b>0$\n",
    "\n",
    "From Jensen we have: $e^{(\\lambda x)} \\leq t e^{\\lambda b} + (1-t)e^{\\lambda a}$ where $t = \\frac{x-a}{b-a}$.  \n",
    "Applying the expectation value to both sides and exploiting the linearity of the operator, with $\\E[X]=0$, \n",
    "$\\E[e^{(\\lambda x)}] \\leq \\E[t] e^{\\lambda b} + \\E[(1-t)]e^{\\lambda a} = \\frac{ b e^{\\lambda a}}{b-a} - \\frac{a e^{\\lambda b}}{b-a} $.. \n",
    "$\\E[e^{(\\lambda x)}] \\leq e^{\\lambda b}(\\frac{be^{\\lambda (a-b)}-a}{b-a})$. \n",
    "\n",
    "\n",
    "Let's call $\\kappa = \\frac{b}{b-a}$ and susbsitute. We apply the natural logarithm; this way, on the left we have the cumulant generating function and on the right a \"bounding\" cumulant generating function. Besides the logarithm maintains the inequalities.  \n",
    "\n",
    "\n",
    " $\\log(\\E[e^{(\\lambda x)}]) \\leq \\kappa u +  \\log(1- \\kappa + \\kappa e^{-u}) = \\phi(u)$\n",
    "By expanding $\\phi(u)$ around $u=0$, we have $\\phi(u) = \\phi(0) + \\phi(0)'u + \\frac{1}{2}\\phi(v)''u^2$.\n",
    "\n",
    "The reason to expand in $u = 0$ is that taking derivative the \"bounding\" cumulant-generating function and evaluating at the origin allows us to find mean and variance.\n",
    "$\\phi(0) = 0$ \n",
    "$\\phi(0)'= 0$ \n",
    "Actually the maximum value of the second cumulant is not reached at $u = 0$, so we try to maximize it in order to find tightest bound. \n",
    "\n",
    "\n",
    "  $\\frac{\\partial^2 \\phi(v)}{\\partial u^2} = \\frac{\\kappa^2 e^{-2u}}{1-\\kappa + \\kappa e^{-u}}- \\frac{\\kappa e^{-u}}{1- \\kappa + \\kappa e^{-u}} = t(1-t), t = \\frac{\\kappa e^{-u}}{1- \\kappa + \\kappa e^{-u}}$ \n",
    "  \n",
    "$\\max_t(\\frac{\\partial^2 \\phi(v)}{\\partial u^2})= \\frac{1}{2} ==>\\frac{\\partial^2 \\phi(t)}{\\partial u^2} \\leq \\frac{1}{4}$.\n",
    "\n",
    "In the end we obtain $\\max_v\\phi(v) = \\frac{1}{2} \\frac{1}{4} u^2 = \\frac{\\lambda^2 (b-a)^2}{8}$\n",
    "\n",
    "$\\log\\E[e^{(\\lambda X)}] \\leq \\frac{\\lambda (b-a)^2}{8}$\n",
    "\n",
    "In the end by taking derivatives we obtain $\\sup | \\psi(\\lambda)''| = \\frac{(b-a)^2}{4}$\n",
    "___________________________________________________________________________________________________________\n",
    "\n",
    "c) A bounded random variable $a\\leq X\\leq b$ is Sub-gaussian if $\\E[e^{(\\lambda X - \\mu)}] \\leq e^{\\frac{\\lambda^2 \\sigma^2}{2}}$ and its variance is $\\sigma = \\frac{(b-a)}{2}$.  \n",
    " \n",
    " We have demonstrated before that the superior of the second derivative of the cumulant generating function is \n",
    " \n",
    " $\\sigma = \\frac{b-a}{2}$.\n",
    " \n",
    " Also  $\\log\\E[e^{(\\lambda X)}] \\leq \\frac{ (b-a)^2}{8} ==> \\E[e^{(\\lambda X)}] \\leq e{\\frac{\\lambda (b-a)^2}{8}} $\n",
    " which is the definition of Sub-gaussian. \n",
    " \n",
    "\n",
    "We have a collection of $X_n$ of bounded random variables:\n",
    "\n",
    "$P(X_n - \\E[X_n] \\geq t) = P(e^{\\lambda (X_n - \\E[X_n])} \\geq e^{\\lambda t}) \\leq \\frac{\\E[e^{\\lambda (X_n - \\E[X_n])}]}{e^{\\lambda t}} = e^{- \\lambda t} \\prod_{i=1}^{n} \\E[e^{\\lambda (X_i - \\E[X_i])}] \\leq e^{\\lambda t} \\prod_{i=1}^{n} e^{\\lambda ^2 \\frac{(b-a)^2}{8}}$.\n",
    "\n",
    "The first inequality holds for Markov, the second one we have demonstrated above. Now we use independence of random variables and minimize over $\\lambda$ in order to find the best bound.   \n",
    "\n",
    "$P(|X_n - \\E[X_n]| \\geq t) \\leq 2 \\inf_\\lambda(e^{- \\lambda t + \\lambda^2 n\\frac{(b-a)^2}{8}})$. The factor 2 is present because of the modulus in the argument of the probability \n",
    "\n",
    "Derivating and  with respect to $\\lambda$ and putting to zero, one obtains $\\lambda* = \\frac{4t}{(b-a)^2 n}$.\n",
    "\n",
    "Substituting, $P(|X_n - \\E[X_n]| \\geq t) \\leq 2 e^{- \\frac{2t^2}{n(b-a)^2}}$\n"
   ]
  },
  {
   "cell_type": "markdown",
   "metadata": {},
   "source": [
    "##  2 Concentration of Chi-squared variables"
   ]
  },
  {
   "cell_type": "code",
   "execution_count": 38,
   "metadata": {},
   "outputs": [],
   "source": [
    "import matplotlib.pyplot as plt\n",
    "import numpy as np"
   ]
  },
  {
   "cell_type": "markdown",
   "metadata": {},
   "source": [
    "$\\chi_k^2 = Z_1^2 + Z_2^2 + ... + Z_k^2 \\quad with \\quad Z_i\\sim\\mathit{N(0,1)}$.   \n",
    "\n",
    "- First we want to find a bound fo $P(\\chi_k^2\\geq(1+\\epsilon)k)$ using a Chernoff-type approach. This implies to act in this  way:    \n",
    "$\\large P(\\chi_k^2\\geq(1+\\epsilon)k)=P(e^{(\\lambda \\chi_k^2)}\\geq e^{\\lambda(1+\\epsilon)k}) \\leq \\LARGE \\frac{\\mathbf{E}[e^{(\\lambda \\chi_k^2)}]}{e^{\\lambda(1+\\epsilon)k}} = \\frac{(\\mathbf{E}[e^{(\\lambda Z_k^2)}])^{k}}{e^{\\lambda(1+\\epsilon)k}} $ $\\qquad \\qquad \\qquad \\qquad \\qquad \\qquad \\qquad \\qquad $\n",
    " where the inequality comes from the Markov Inequality.     \n",
    " \n",
    "\n",
    " - Now we optimize $\\lambda$. In order to do it we compute the derivative of the found bound and we impose that it's null.  \n",
    "From$\\large \\quad \\frac{\\partial}{\\partial \\lambda} \\frac{(\\mathbf{E}[e^{(\\lambda Z_k^2)}])^{k}}{e^{\\lambda(1+\\epsilon)k}}=0 \\quad$ one gets: $\\large \\lambda=\\frac{\\epsilon}{2(1+\\epsilon)}$  \n",
    "$  => P(\\chi_k^2\\geq(1+\\epsilon)k) \\leq \\large \\frac{(\\mathbf{\\large E}\\huge[\\normalsize e^{\\large \\frac{\\epsilon Z_k^2}{2(1+\\epsilon)}}\\huge])^{\\large k}\\normalsize}{e^{\\frac{\\epsilon  k}{2}}}=\\left((1+\\epsilon)e^{-\\epsilon})\\right)^{\\frac{k}{2}}$  \n",
    "We notice that $\\lambda \\in \\left[0,\\frac{1}{2}\\right]$ is a condition that insures the correct sign of the gaussian exponential.  \n",
    " - using the inequality $\\large \\quad 1+\\epsilon \\leq e^{\\epsilon-(\\epsilon^{2}-\\epsilon^{3})/2}\\quad $ in the result we easily find $\\quad P(\\chi_k^2\\geq(1+\\epsilon)k) \\leq e^{-k(\\epsilon^{2}-\\epsilon^{3})/4}$\n",
    " - in the similar case $ P(\\chi_k^2\\leq(1-\\epsilon)k)$ we can find an upper bound.\n",
    "First of all we have to use some tricks in order to find the correct inequality for Markov:  \n",
    "$P\\left(\\chi_k^2\\leq(1-\\epsilon)k\\right) = P\\left(-\\chi_k^2\\geq -(1-\\epsilon)k\\right) = P\\left(e^{-\\lambda\\chi_k^2}\\geq e^{-\\lambda (1-\\epsilon)k}\\right) \\leq \\LARGE \\frac{\\mathbf{E}[e^{(-\\lambda \\chi_k^2)}]}{e^{-\\lambda(1-\\epsilon)k}} = \\LARGE \\frac{(\\mathbf{E}[e^{(-\\lambda Z_k^2)}])^{k}}{e^{-\\lambda(1-\\epsilon)k}}$  \n",
    "Optimizing we find $\\large \\lambda=\\frac{\\epsilon}{2(1-\\epsilon)}$ then  \n",
    "$\\large P\\left(\\chi_k^2\\leq(1-\\epsilon)k\\right) \\leq \\LARGE \\frac{(\\mathbf{E}[e^{(-\\lambda Z_k^2)}])^{k}}{e^{-\\lambda(1-\\epsilon)k}}\\large= \\left((1-\\epsilon)e^{\\epsilon}\\right)^{\\frac{k}{2}}$  \n",
    "How it's possible to verify in the following plot the following inequality holds:   \n",
    "    $\\large 1-\\epsilon \\leq e^{(-\\epsilon-(\\epsilon^2-\\epsilon^3)/2)}$  \n",
    "=>  $\\quad \\large P\\left(\\chi_k^2\\leq(1-\\epsilon)k\\right) \\leq e^{-k(\\epsilon^{2}-\\epsilon^{3})/4}$\n",
    " - As it is possible to demonstrate the mean of $\\chi_k^2$ is k. The results found above show that this distribution is tightly picked around k, that is in fact its mean, with an exponential decay before and after k.\n",
    "\n"
   ]
  },
  {
   "cell_type": "code",
   "execution_count": 40,
   "metadata": {},
   "outputs": [
    {
     "data": {
      "text/plain": [
       "[<matplotlib.lines.Line2D at 0x1976fc68128>,\n",
       " <matplotlib.lines.Line2D at 0x1976fc682b0>]"
      ]
     },
     "execution_count": 40,
     "metadata": {},
     "output_type": "execute_result"
    },
    {
     "data": {
      "image/png": "[encoded data removed]",
      "text/plain": [
       "<matplotlib.figure.Figure at 0x197702b1668>"
      ]
     },
     "metadata": {},
     "output_type": "display_data"
    }
   ],
   "source": [
    "x1 = np.arange(0,2,0.01)\n",
    "def funct(x):\n",
    "    return np.exp(-x-(x**2-x**3)/2) \n",
    "plt.plot(x1,1-x1,'y',x1,funct(x1))"
   ]
  },
  {
   "cell_type": "markdown",
   "metadata": {},
   "source": [
    "## 3 Sampling Pi"
   ]
  },
  {
   "cell_type": "markdown",
   "metadata": {},
   "source": [
    "We estimate $\\pi$ by sampling uniformly $N$ points in a square between $-1 \\lt x \\lt 1$ and $-1 \\lt y \\lt 1$ and counting how many hits are inside the unit circle. We define the random variables $S_i = 0$ if the point is outside the circle, and $S_i = 4$ if the point is inside the circle. The first thing we want to know is the probability $p$ that $S_i = 4$. Since the sampling is uniform, this probability would be given by:\n",
    "\n",
    "$$\n",
    "p(S_i = 4) = \\frac{Area of circle}{Area of square} = \\frac{\\pi}{4}\n",
    "$$\n",
    "\n",
    "Our random variables follow a Bernoulli distribution because we only have two possibilities: $S_i = 4$ with probability $p$ or $S_i = 0$ with probability $1-p$. Now, for the mean $m$ and variance $\\Delta$ of the distribution $P(S_i)$ we make the following calculations: \n",
    "\n",
    "$$\\begin{eqnarray}\n",
    "m&=& E[S]= S_1(p) + S_2(1-p)= 4(\\pi/4) + 0(1 - \\frac{\\pi}{4})= \\pi \\\\\n",
    "E[S^2]&=& (4^2)(p) + (0^2)(1-p)= 16p= 4\\pi \\\\\n",
    "\\Delta&=& E[S^2] - E[S]^2 = 4\\pi - \\pi^2 = \\pi(4 - \\pi)\\\\\n",
    "\\end{eqnarray}$$\n",
    "\n",
    "Now we define our mean estimator and our variance estimator as:\n",
    "$$\n",
    "\\hat{m}=\\frac{1}{N}\\sum_{i=1}^{N} S_i \\\\\\\n",
    "\\hat{\\Delta}=\\frac{1}{N-1}\\sum_{i=1}^{N} (S_i - \\hat{m} )^2\n",
    "$$\n",
    "And we need to show that they are unbiased:\n",
    "$$\n",
    "E[\\hat{m}]=E[\\frac{1}{N}\\sum_{i=1}^{N} S_i]=\\frac{1}{N}\\sum_{i=1}^{N} E[S_i]=\\frac{1}{N}(N m)=m=E[S]\n",
    "$$\n",
    "\n",
    "Because of the linearity of the expectation operator and because the $S_i$ random variables are i.i.d., so all have the same mean $m$. So,\n",
    "\n",
    "$$E[\\hat{m}]=E[S]=m$$ and the mean estimator is unbiased.\n",
    "\n",
    "We can use again the linearity of the expectation operator for the variance estimator:\n",
    "$$\n",
    "E[\\hat{\\Delta}]=\\frac{1}{N-1}E[\\sum_{i=1}^{N} (S_i - \\hat{m} )^2]\n",
    "$$\n",
    "$$\n",
    "(N-1)E[\\hat{\\Delta}]=E[\\sum_{i=1}^{N} (S_i^2 - 2\\hat{m}S_i + \\hat{m}^2)]\n",
    "$$\n",
    "$$\n",
    "(N-1)E[\\hat{\\Delta}]=E[\\sum_{i=1}^{N} S_i^2] - 2E[\\hat{m}\\sum_{i=1}^{N} S_i] + E[\\hat{m}^2\\sum_{i=1}^{N} 1]\n",
    "$$\n",
    "We know $N\\hat{m}=\\sum S_i$, so\n",
    "$$\n",
    "(N-1)E[\\hat{\\Delta}]=E[\\sum_{i=1}^{N} S_i^2] - 2E[\\hat{m}(N\\hat{m})] + E[N\\hat{m}^2]= \\\\\\\\\n",
    "=E[\\sum_{i} S_i^2] -2NE[\\hat{m}^2] + NE[\\hat{m}^2]= \\\\\\\\\n",
    "=E[\\sum_{i} S_i^2] - NE[\\hat{m}^2]=\\\\\\\\\n",
    "=NE[S_i^2] - NE[\\hat{m}^2]\n",
    "$$\n",
    "Factorizing the $N$,\n",
    "$$\n",
    "\\frac{N-1}{N}E[\\hat{\\Delta}]=E[S_i^2]-E[\\hat{m}^2]\n",
    "$$\n",
    "\n",
    "We know that\n",
    "\n",
    "$$\n",
    "\\Delta=E[S_i^2]-E[S_i]^2 \\\\\\\\\n",
    "Var[\\hat{m}]=E[\\hat{m}^2]-E[\\hat{m}]^2\n",
    "$$\n",
    "\n",
    "So, we can write our last expression as:\n",
    "\n",
    "$$\n",
    "\\frac{N-1}{N}E[\\hat{\\Delta}] = \\Delta + E[S_i]^2 - Var[\\hat{m}] - E[\\hat{m}]^2\n",
    "$$\n",
    "But $Var[\\hat{m}] = Var[\\frac{1}{N}\\sum S_i]$\n",
    "\n",
    "Since the $S_i$ are identically distributed, all of them have the same variance, so\n",
    "$$\n",
    "Var[\\hat{m}] = \\frac{1}{N^2}\\sum_{i} Var[S_i]\\\\\\\\\n",
    "=\\frac{1}{N^2}(N\\Delta)=\\frac{1}{N}\\Delta\n",
    "$$\n",
    "So, $$Var[\\hat{m}]=\\frac{\\Delta}{N}$$\n",
    "\n",
    "and we just saw that $$E[\\hat{m}]=m$$\n",
    "\n",
    "Substituting all this in our expression,\n",
    "$$\n",
    "\\frac{N-1}{N}E[\\hat{\\Delta}] = \\Delta + m^2 - \\frac{\\Delta}{N} - m^2 = \\frac{N-1}{N}\\Delta\n",
    "$$\n",
    "So,\n",
    "$$ E[\\hat{\\Delta}] = \\Delta $$\n",
    "\n",
    "and the variance estimator is unbiased.\n",
    "So we deduce that for the typical error made by the estimator when using $N$ points to compute $\\pi$:\n",
    "\n",
    "$\\hat{m} = m \\pm \\sqrt{\\frac{\\Delta}{N}}=\\pi \\pm \\sqrt{\\frac{4\\pi - \\pi^2}{N}}$\n",
    "\n",
    "With the results obtained, we implement the sampling code for computing $\\pi$. We let the user choose the value of $N$ total points that are going to be sampled in the square for each estimation of $\\pi$, and call the function `get_pi`. The argument of this function will be the number of times that for the value of $N$ given, $\\pi$ is going to be estimated. The estimations of $\\pi$ are stored in a list and then ploted in an histogram for seeing the behaviour around the mean as $N$ grows. We also plot the points in the square to see if we are doing it well. The function also computes the variance and the mean estimators, the typical error and the bounds discussed in the course."
   ]
  },
  {
   "cell_type": "code",
   "execution_count": 2,
   "metadata": {},
   "outputs": [],
   "source": [
    "import random\n",
    "import math\n",
    "import numpy\n",
    "import matplotlib.pyplot as plt\n",
    "\n",
    "def get_pi(times):\n",
    "\n",
    "    # Number of points that fall inside the circle.\n",
    "    Nint = 0\n",
    "    # Total number of points to sample.\n",
    "    Ntot = input(\"How many points do you want to sample in the square? \")\n",
    "\n",
    "    circle_x = []\n",
    "    circle_y = []\n",
    "    out_x = []\n",
    "    out_y = []\n",
    "\n",
    "    values_pi = []\n",
    "\n",
    "    variance = math.pi * (4 - math.pi)\n",
    "\n",
    "    for j in range(times):\n",
    "    \n",
    "        Nint = 0\n",
    "    \n",
    "        # Iterate for the number of points.\n",
    "        for i in range(0, int(Ntot)): \n",
    "        \n",
    "            # Points are sampled uniformly in the square, so we generate random x, y in [-1, 1].\n",
    "            x = random.uniform(-1.0,1.0)\n",
    "            y = random.uniform(-1.0,1.0)\n",
    "    \n",
    "            x2 = x**2\n",
    "            y2 = y**2\n",
    "    \n",
    "            # Increment number of points if inside unit circle.\n",
    "            if math.sqrt(x2 + y2) < 1.0:\n",
    "                Nint += 1\n",
    "                circle_x.append(x)\n",
    "                circle_y.append(y)\n",
    "            else:\n",
    "                out_x.append(x)\n",
    "                out_y.append(y)\n",
    "        \n",
    "        # Nint / Ntot = pi / 4\n",
    "        pi = (float(Nint) / int(Ntot)) * 4\n",
    "\n",
    "        # Obtain values of pi\n",
    "        values_pi.append(pi)\n",
    "\n",
    "    #print(*values_pi, sep='\\n') #For showing all the values of Pi obtained in the list\n",
    "\n",
    "    plt.plot(circle_x,circle_y,'.')\n",
    "    plt.plot(out_x,out_y,'+')\n",
    "    plt.axes().set_aspect('equal')\n",
    "    plt.show()\n",
    "\n",
    "    #Instead of making a list of values, let's put them in a histogram\n",
    "\n",
    "    n, bins, patches = plt.hist(values_pi, 50, normed=1, facecolor='red', alpha=0.75)\n",
    "    plt.show()\n",
    "\n",
    "    m_estimator = sum(values_pi) / times\n",
    "    variance_meanestimator = variance / times\n",
    "    typical_error = math.sqrt(variance_meanestimator)\n",
    "    s = numpy.array(values_pi)\n",
    "    variance_estimator = (1/999)*sum((s-m_estimator)**2)\n",
    "\n",
    "    print(\"The mathematical value of the mean is = \", math.pi)\n",
    "    print(\"Our mean estimator for the value of pi is = \", m_estimator)\n",
    "    print(\"The variance of our mean estimator is = \", variance_meanestimator)\n",
    "    print(\"So the typical error is = \", typical_error)\n",
    "    print(\"The variance estimator is = \", variance_estimator)\n",
    "    \n",
    "    err = 0.01\n",
    "    p = math.pi / 4\n",
    "    \n",
    "    markov = math.pi / (math.pi + err)\n",
    "    chernoff = ((((1-p)/(1-p-err))**(1-p-err))*(p/(p+err))**(p+err))**(times)\n",
    "    hoeffding = math.exp(-((times)*((err)**2))/(2*(variance)))\n",
    "    \n",
    "    print(\"The Markov bound for the error larger than 0.01 is \", markov)\n",
    "    print(\"The Hoeffding bound for the error larger than 0.01 is \", hoeffding)\n",
    "    print(\"The Chernoff bound for the error larger than 0.01 is \", chernoff)"
   ]
  },
  {
   "cell_type": "code",
   "execution_count": 3,
   "metadata": {},
   "outputs": [
    {
     "name": "stdout",
     "output_type": "stream",
     "text": [
      "How many points do you want to sample in the square? 1000\n"
     ]
    },
    {
     "name": "stderr",
     "output_type": "stream",
     "text": [
      "C:\\Users\\leoag\\Anaconda3\\lib\\site-packages\\matplotlib\\cbook\\deprecation.py:106: MatplotlibDeprecationWarning: Adding an axes using the same arguments as a previous axes currently reuses the earlier instance.  In a future version, a new instance will always be created and returned.  Meanwhile, this warning can be suppressed, and the future behavior ensured, by passing a unique label to each axes instance.\n",
      "  warnings.warn(message, mplDeprecation, stacklevel=1)\n"
     ]
    },
    {
     "data": {
      "image/png": "[encoded data removed]",
      "text/plain": [
       "<matplotlib.figure.Figure at 0x1d02f2cd630>"
      ]
     },
     "metadata": {},
     "output_type": "display_data"
    },
    {
     "data": {
      "image/png": "[encoded data removed]",
      "text/plain": [
       "<matplotlib.figure.Figure at 0x1d03724ccf8>"
      ]
     },
     "metadata": {},
     "output_type": "display_data"
    },
    {
     "name": "stdout",
     "output_type": "stream",
     "text": [
      "The mathematical value of the mean is =  3.141592653589793\n",
      "Our mean estimator for the value of pi is =  3.1402279999999987\n",
      "The variance of our mean estimator is =  0.0026967662132698143\n",
      "So the typical error is =  0.05193039777692651\n",
      "The variance estimator is =  0.002784700716716724\n",
      "The Markov bound for the error larger than 0.01 is  0.996827001107326\n",
      "The Hoeffding bound for the error larger than 0.01 is  0.981630097164885\n",
      "The Chernoff bound for the error larger than 0.01 is  0.7407524332043466\n"
     ]
    }
   ],
   "source": [
    "get_pi(1000)"
   ]
  },
  {
   "cell_type": "markdown",
   "metadata": {},
   "source": [
    "We can see that as we aument the value of $N$ (the total points sampled uniformly in the square for making 1000 estimations of $\\pi$), the variance estimator approaches the variance of our mean estimator, which was the expected behavior for the estimator. Also we see that as we increase the total points sampled, the dispersion in the histogram decreases, and it acumulates more around the value of the mean. As we can see from the computations of the bounds for the probability of having an error larger than 0.01, the Chernoff bound is the best because is the lowest. However, the probability even if the error is so tiny, is considerably low in any case. This is because in our estimate for the mean, we are considering a lot of estimations for $\\pi$. "
   ]
  },
  {
   "cell_type": "markdown",
   "metadata": {},
   "source": [
    "## 4 Pooling"
   ]
  },
  {
   "cell_type": "code",
   "execution_count": 4,
   "metadata": {},
   "outputs": [
    {
     "data": {
      "text/html": [
       "\n",
       "        <iframe\n",
       "            width=\"900\"\n",
       "            height=\"1200\"\n",
       "            src=\"./sheet.pdf\"\n",
       "            frameborder=\"0\"\n",
       "            allowfullscreen\n",
       "        ></iframe>\n",
       "        "
      ],
      "text/plain": [
       "<IPython.lib.display.IFrame at 0x1d0372767b8>"
      ]
     },
     "execution_count": 4,
     "metadata": {},
     "output_type": "execute_result"
    }
   ],
   "source": [
    "from IPython.display import IFrame\n",
    "IFrame(\"./sheet.pdf\", width=900, height=1200)"
   ]
  },
  {
   "cell_type": "markdown",
   "metadata": {},
   "source": [
    "Numerically we can easily check our analysis:"
   ]
  },
  {
   "cell_type": "code",
   "execution_count": 45,
   "metadata": {
    "scrolled": true
   },
   "outputs": [
    {
     "name": "stdout",
     "output_type": "stream",
     "text": [
      "18442.601868743503\n"
     ]
    },
    {
     "data": {
      "image/png": "[encoded data removed]",
      "text/plain": [
       "<matplotlib.figure.Figure at 0x221bb2da2b0>"
      ]
     },
     "metadata": {},
     "output_type": "display_data"
    }
   ],
   "source": [
    "import matplotlib.pyplot as plt\n",
    "import numpy as np\n",
    "def D_KL(x,y):\n",
    "    return x*log(x/y)+(1-x)*log((1-x)/(1-y))\n",
    "\n",
    "def Nval(pr,error,tol):\n",
    "    DKL1=D_KL(pr + tol,pr);\n",
    "    DKL2=D_KL(pr - tol,pr);    \n",
    "    return (-log(error)+log(1+np.exp(DKL1-DKL2)))/DKL1;\n",
    "\n",
    "p = np.arange(0.011, 0.989, 0.01)\n",
    "N=[]\n",
    "Nmax=0\n",
    "for i in range(np.size(p)):\n",
    "    value=Nval(p[i],0.05,0.01)\n",
    "    N.append(value)\n",
    "    if (value>Nmax):\n",
    "        Nmax=value  \n",
    "    \n",
    "%matplotlib inline  \n",
    "plt.plot(p,N)\n",
    "print(Nmax)"
   ]
  },
  {
   "cell_type": "markdown",
   "metadata": {},
   "source": [
    "In order to check if the prediction was correct we can simulate the problem numerically:"
   ]
  },
  {
   "cell_type": "code",
   "execution_count": 68,
   "metadata": {},
   "outputs": [
    {
     "name": "stdout",
     "output_type": "stream",
     "text": [
      "Bad estimations with   12000 =   37    fraction of errors:   0.0030833333333333333\n",
      "Bad estimations with   18443 =   8    fraction of errors:   0.00043376890961340344\n",
      "Bad estimations with   22000 =   3    fraction of errors:   0.00013636363636363637\n"
     ]
    }
   ],
   "source": [
    "import random\n",
    "\n",
    "num_pool=1000;\n",
    "people=[12000,18443,22000];\n",
    "\n",
    "for j in range (3):\n",
    "\n",
    "    count=0;\n",
    "    for i in range(num_pool):\n",
    "        \n",
    "        pooling=np.random.randint(2, size=people[j])\n",
    "        p_est=sum(pooling)/people[j];\n",
    "        if (np.abs(p_est-0.5)>0.01):\n",
    "            \n",
    "            count=count+1\n",
    "            \n",
    "    print(\"Bad estimations with  \",people[j],\"=  \", count,\"   fraction of errors:  \", count/people[j])"
   ]
  },
  {
   "cell_type": "markdown",
   "metadata": {},
   "source": [
    "## 5 Large Deviations "
   ]
  },
  {
   "cell_type": "code",
   "execution_count": 4,
   "metadata": {},
   "outputs": [
    {
     "data": {
      "text/html": [
       "\n",
       "        <iframe\n",
       "            width=\"900\"\n",
       "            height=\"1200\"\n",
       "            src=\"./Exercise_5.pdf\"\n",
       "            frameborder=\"0\"\n",
       "            allowfullscreen\n",
       "        ></iframe>\n",
       "        "
      ],
      "text/plain": [
       "<IPython.lib.display.IFrame at 0x292dc0fa7b8>"
      ]
     },
     "execution_count": 4,
     "metadata": {},
     "output_type": "execute_result"
    }
   ],
   "source": [
    "from IPython.display import IFrame\n",
    "IFrame(\"./Exercise_5.pdf\", width=900, height=1200)"
   ]
  },
  {
   "cell_type": "code",
   "execution_count": 3,
   "metadata": {},
   "outputs": [
    {
     "name": "stderr",
     "output_type": "stream",
     "text": [
      "C:\\Programmi\\Anaconda\\lib\\site-packages\\ipykernel_launcher.py:40: RuntimeWarning: invalid value encountered in log\n",
      "C:\\Programmi\\Anaconda\\lib\\site-packages\\ipykernel_launcher.py:44: MatplotlibDeprecationWarning: scipy.stats.norm.pdf\n"
     ]
    },
    {
     "data": {
      "image/png": "[encoded data removed]",
      "text/plain": [
       "<Figure size 432x288 with 1 Axes>"
      ]
     },
     "metadata": {},
     "output_type": "display_data"
    }
   ],
   "source": [
    "import numpy as np\n",
    "import matplotlib.pyplot as plt\n",
    "import matplotlib.mlab as mlab\n",
    "import random\n",
    "import scipy.stats\n",
    "from scipy.stats import norm\n",
    "import math\n",
    "\n",
    "#Data initialization\n",
    "sn=[]\n",
    "sn1=[]\n",
    "rand=0\n",
    "rand1=0\n",
    "rand2=0\n",
    "N=200\n",
    "\n",
    "for x in range(10000):\n",
    "        rand1=0\n",
    "        \n",
    "        for y in range(N):\n",
    "            appo = random.random()\n",
    "\n",
    "            if(appo > 0.5): \n",
    "                rand = 1\n",
    "            else:\n",
    "                rand = -1\n",
    "\n",
    "            rand1+= rand        \n",
    "    \n",
    "        rand2 = rand1/N    \n",
    "        sn.append(rand2)   \n",
    "    \n",
    "#Histogram created using average value of N r.v.\n",
    "n, bins, patches = plt.hist(sn, 10, density=True, facecolor='g', alpha=0.75)\n",
    "\n",
    "#Compution limit functions\n",
    "x = np.linspace(-30.0,30, 3000)\n",
    "\n",
    "#Cramer's function\n",
    "I = np.exp(-N*0.5*((1+x)*np.log((1+x))+ (1-x)*np.log((1-x))))\n",
    "plt.plot(x, I, '-', label='Cramer\\' s Function')\n",
    "\n",
    "#Gaussian funtion\n",
    "gauss = mlab.normpdf(x, 0, np.sqrt(1/N))\n",
    "plt.plot(x,np.exp(-0.5*N*x**2), label='Gaussian CLT')\n",
    "\n",
    "\n",
    "\n",
    "#Plot labels\n",
    "\n",
    "plt.yscale('log')\n",
    "plt.xlim(-0.7,0.7)\n",
    "plt.ylim(1e-57, 1)\n",
    "\n",
    "plt.xlabel('Average values')\n",
    "plt.ylabel('Log Probability')\n",
    "plt.title('Histogram for comparison I <-> CLT')\n",
    "plt.legend()\n",
    "\n",
    "plt.show()\n"
   ]
  },
  {
   "cell_type": "code",
   "execution_count": null,
   "metadata": {},
   "outputs": [],
   "source": []
  }
 ],
 "metadata": {
  "kernelspec": {
   "display_name": "Python 3",
   "language": "python",
   "name": "python3"
  },
  "language_info": {
   "codemirror_mode": {
    "name": "ipython",
    "version": 3
   },
   "file_extension": ".py",
   "mimetype": "text/x-python",
   "name": "python",
   "nbconvert_exporter": "python",
   "pygments_lexer": "ipython3",
   "version": "3.6.5"
  }
 },
 "nbformat": 4,
 "nbformat_minor": 2
}
